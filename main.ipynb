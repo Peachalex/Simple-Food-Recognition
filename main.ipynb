{
 "cells": [
  {
   "metadata": {
    "ExecuteTime": {
     "end_time": "2025-10-01T18:36:45.151126Z",
     "start_time": "2025-10-01T18:36:45.144838Z"
    }
   },
   "cell_type": "code",
   "source": [
    "import matplotlib.pyplot as plt\n",
    "import torch\n",
    "import torchvision\n",
    "\n",
    "\n",
    "from torch import nn\n",
    "\n",
    "from torch.utils.data import DataLoader\n",
    "from torchvision import datasets, transforms\n",
    "from torchinfo import summary\n",
    "import modules.data_setup as data_setup\n",
    "from modules.engine import train_step,test_step,train\n",
    "from modules.create_writer import create_writer\n",
    "from modules.predict_plot import device\n",
    "from modules.save_model import save_model\n",
    "import os\n",
    "\n",
    "\n",
    "device = torch.device(\"cuda:0\" if torch.cuda.is_available() else \"cpu\")\n",
    "print(f\"Device: {device}\")"
   ],
   "id": "6fd7d9eb3fb917f1",
   "outputs": [
    {
     "name": "stdout",
     "output_type": "stream",
     "text": [
      "Device: cpu\n"
     ]
    }
   ],
   "execution_count": 54
  },
  {
   "metadata": {
    "ExecuteTime": {
     "end_time": "2025-10-01T18:36:45.174100Z",
     "start_time": "2025-10-01T18:36:45.171297Z"
    }
   },
   "cell_type": "code",
   "source": [
    "version = torch.__version__\n",
    "print(f\"PyTorch Version: {version}\")"
   ],
   "id": "53f59231b8f5a57b",
   "outputs": [
    {
     "name": "stdout",
     "output_type": "stream",
     "text": [
      "PyTorch Version: 2.8.0\n"
     ]
    }
   ],
   "execution_count": 55
  },
  {
   "metadata": {
    "ExecuteTime": {
     "end_time": "2025-10-01T18:36:45.183767Z",
     "start_time": "2025-10-01T18:36:45.180799Z"
    }
   },
   "cell_type": "code",
   "source": [
    "import requests\n",
    "from pathlib import Path\n",
    "import zipfile\n",
    "\n",
    "data_path = Path('data')\n",
    "image_path = data_path / 'pizza_steak_sushi_20_percent'\n",
    "\n",
    "if image_path.is_dir():\n",
    "    print(f'{image_path} exists')\n",
    "else:\n",
    "    print(f'{image_path} does not exist, creating...')\n",
    "    image_path.mkdir(parents=True, exist_ok=True)\n",
    "\n",
    "    with open(data_path / 'pizza_steak_sushi_20_percent.zip','wb') as f:\n",
    "         request = requests.get(\"https://github.com/mrdbourke/pytorch-deep-learning/raw/main/data/pizza_steak_sushi_20_percent.zip\")\n",
    "         print('Downloading pizza_steak_sushi_20_percent data')\n",
    "         f.write(request.content)\n",
    "    with zipfile.ZipFile(data_path / 'pizza_steak_sushi_20_percent.zip','r') as zip_ref:\n",
    "        print(\"Extracting pizza_steak_sushi_20_percent.zip\")\n",
    "        zip_ref.extractall(image_path)\n",
    "\n",
    "    os.remove(data_path / 'pizza_steak_sushi_20_percent.zip')"
   ],
   "id": "d4c825d3736e97d1",
   "outputs": [
    {
     "name": "stdout",
     "output_type": "stream",
     "text": [
      "data/pizza_steak_sushi_20_percent exists\n"
     ]
    }
   ],
   "execution_count": 56
  },
  {
   "metadata": {
    "ExecuteTime": {
     "end_time": "2025-10-01T18:36:45.188450Z",
     "start_time": "2025-10-01T18:36:45.186622Z"
    }
   },
   "cell_type": "code",
   "source": [
    "def set_seed(seed:int=42):\n",
    "    torch.manual_seed(seed)\n",
    "    torch.cuda.manual_seed(seed)"
   ],
   "id": "ce3e0429839a59a5",
   "outputs": [],
   "execution_count": 57
  },
  {
   "metadata": {
    "ExecuteTime": {
     "end_time": "2025-10-01T18:36:45.193789Z",
     "start_time": "2025-10-01T18:36:45.191534Z"
    }
   },
   "cell_type": "code",
   "source": [
    "train_dir = image_path/'train'\n",
    "test_dir = image_path/'test'\n",
    "normalize = transforms.Normalize(\n",
    "    mean=[0.485,0.456,0.406],\n",
    "    std=[0.229,0.224,0.225]\n",
    ")\n",
    "simple_transform = transforms.Compose([\n",
    "    transforms.Resize((224,224)),\n",
    "    transforms.ToTensor(),\n",
    "    normalize\n",
    "])\n",
    "print(simple_transform)\n"
   ],
   "id": "edbf9f109660a420",
   "outputs": [
    {
     "name": "stdout",
     "output_type": "stream",
     "text": [
      "Compose(\n",
      "    Resize(size=(224, 224), interpolation=bilinear, max_size=None, antialias=True)\n",
      "    ToTensor()\n",
      "    Normalize(mean=[0.485, 0.456, 0.406], std=[0.229, 0.224, 0.225])\n",
      ")\n"
     ]
    }
   ],
   "execution_count": 58
  },
  {
   "metadata": {
    "ExecuteTime": {
     "end_time": "2025-10-01T18:36:45.199483Z",
     "start_time": "2025-10-01T18:36:45.195693Z"
    }
   },
   "cell_type": "code",
   "source": [
    "train_dataloader,test_dataloader,class_names = data_setup.create_dataloaders(\n",
    "                                                train_dir=train_dir,\n",
    "                                                test_dir=test_dir,\n",
    "                                                train_transform=simple_transform,\n",
    "                                                test_transform=simple_transform,\n",
    "                                                batch_size=32)\n",
    "train_dataloader,test_dataloader,class_names"
   ],
   "id": "41a2103bf4b7699a",
   "outputs": [
    {
     "data": {
      "text/plain": [
       "(<torch.utils.data.dataloader.DataLoader at 0x1565af1d0>,\n",
       " <torch.utils.data.dataloader.DataLoader at 0x15588d8e0>,\n",
       " ['pizza', 'steak', 'sushi'])"
      ]
     },
     "execution_count": 59,
     "metadata": {},
     "output_type": "execute_result"
    }
   ],
   "execution_count": 59
  },
  {
   "metadata": {
    "ExecuteTime": {
     "end_time": "2025-10-01T18:36:47.066198Z",
     "start_time": "2025-10-01T18:36:45.203743Z"
    }
   },
   "cell_type": "code",
   "source": [
    "weights =  torchvision.models.EfficientNet_B1_Weights.DEFAULT\n",
    "effnetb1 = torchvision.models.efficientnet_b1(weights=weights)\n",
    "model_summary = summary(\n",
    "    model=effnetb1,\n",
    "    input_size=(32,3,224,224),\n",
    "    verbose=0,\n",
    "    col_names = ['input_size', 'output_size', 'num_params','trainable'],\n",
    "    col_width=20,\n",
    "    row_settings=['var_names']\n",
    ")\n",
    "model_summary"
   ],
   "id": "86345a6d16be4e17",
   "outputs": [
    {
     "data": {
      "text/plain": [
       "============================================================================================================================================\n",
       "Layer (type (var_name))                                      Input Shape          Output Shape         Param #              Trainable\n",
       "============================================================================================================================================\n",
       "EfficientNet (EfficientNet)                                  [32, 3, 224, 224]    [32, 1000]           --                   True\n",
       "├─Sequential (features)                                      [32, 3, 224, 224]    [32, 1280, 7, 7]     --                   True\n",
       "│    └─Conv2dNormActivation (0)                              [32, 3, 224, 224]    [32, 32, 112, 112]   --                   True\n",
       "│    │    └─Conv2d (0)                                       [32, 3, 224, 224]    [32, 32, 112, 112]   864                  True\n",
       "│    │    └─BatchNorm2d (1)                                  [32, 32, 112, 112]   [32, 32, 112, 112]   64                   True\n",
       "│    │    └─SiLU (2)                                         [32, 32, 112, 112]   [32, 32, 112, 112]   --                   --\n",
       "│    └─Sequential (1)                                        [32, 32, 112, 112]   [32, 16, 112, 112]   --                   True\n",
       "│    │    └─MBConv (0)                                       [32, 32, 112, 112]   [32, 16, 112, 112]   1,448                True\n",
       "│    │    └─MBConv (1)                                       [32, 16, 112, 112]   [32, 16, 112, 112]   612                  True\n",
       "│    └─Sequential (2)                                        [32, 16, 112, 112]   [32, 24, 56, 56]     --                   True\n",
       "│    │    └─MBConv (0)                                       [32, 16, 112, 112]   [32, 24, 56, 56]     6,004                True\n",
       "│    │    └─MBConv (1)                                       [32, 24, 56, 56]     [32, 24, 56, 56]     10,710               True\n",
       "│    │    └─MBConv (2)                                       [32, 24, 56, 56]     [32, 24, 56, 56]     10,710               True\n",
       "│    └─Sequential (3)                                        [32, 24, 56, 56]     [32, 40, 28, 28]     --                   True\n",
       "│    │    └─MBConv (0)                                       [32, 24, 56, 56]     [32, 40, 28, 28]     15,350               True\n",
       "│    │    └─MBConv (1)                                       [32, 40, 28, 28]     [32, 40, 28, 28]     31,290               True\n",
       "│    │    └─MBConv (2)                                       [32, 40, 28, 28]     [32, 40, 28, 28]     31,290               True\n",
       "│    └─Sequential (4)                                        [32, 40, 28, 28]     [32, 80, 14, 14]     --                   True\n",
       "│    │    └─MBConv (0)                                       [32, 40, 28, 28]     [32, 80, 14, 14]     37,130               True\n",
       "│    │    └─MBConv (1)                                       [32, 80, 14, 14]     [32, 80, 14, 14]     102,900              True\n",
       "│    │    └─MBConv (2)                                       [32, 80, 14, 14]     [32, 80, 14, 14]     102,900              True\n",
       "│    │    └─MBConv (3)                                       [32, 80, 14, 14]     [32, 80, 14, 14]     102,900              True\n",
       "│    └─Sequential (5)                                        [32, 80, 14, 14]     [32, 112, 14, 14]    --                   True\n",
       "│    │    └─MBConv (0)                                       [32, 80, 14, 14]     [32, 112, 14, 14]    126,004              True\n",
       "│    │    └─MBConv (1)                                       [32, 112, 14, 14]    [32, 112, 14, 14]    208,572              True\n",
       "│    │    └─MBConv (2)                                       [32, 112, 14, 14]    [32, 112, 14, 14]    208,572              True\n",
       "│    │    └─MBConv (3)                                       [32, 112, 14, 14]    [32, 112, 14, 14]    208,572              True\n",
       "│    └─Sequential (6)                                        [32, 112, 14, 14]    [32, 192, 7, 7]      --                   True\n",
       "│    │    └─MBConv (0)                                       [32, 112, 14, 14]    [32, 192, 7, 7]      262,492              True\n",
       "│    │    └─MBConv (1)                                       [32, 192, 7, 7]      [32, 192, 7, 7]      587,952              True\n",
       "│    │    └─MBConv (2)                                       [32, 192, 7, 7]      [32, 192, 7, 7]      587,952              True\n",
       "│    │    └─MBConv (3)                                       [32, 192, 7, 7]      [32, 192, 7, 7]      587,952              True\n",
       "│    │    └─MBConv (4)                                       [32, 192, 7, 7]      [32, 192, 7, 7]      587,952              True\n",
       "│    └─Sequential (7)                                        [32, 192, 7, 7]      [32, 320, 7, 7]      --                   True\n",
       "│    │    └─MBConv (0)                                       [32, 192, 7, 7]      [32, 320, 7, 7]      717,232              True\n",
       "│    │    └─MBConv (1)                                       [32, 320, 7, 7]      [32, 320, 7, 7]      1,563,600            True\n",
       "│    └─Conv2dNormActivation (8)                              [32, 320, 7, 7]      [32, 1280, 7, 7]     --                   True\n",
       "│    │    └─Conv2d (0)                                       [32, 320, 7, 7]      [32, 1280, 7, 7]     409,600              True\n",
       "│    │    └─BatchNorm2d (1)                                  [32, 1280, 7, 7]     [32, 1280, 7, 7]     2,560                True\n",
       "│    │    └─SiLU (2)                                         [32, 1280, 7, 7]     [32, 1280, 7, 7]     --                   --\n",
       "├─AdaptiveAvgPool2d (avgpool)                                [32, 1280, 7, 7]     [32, 1280, 1, 1]     --                   --\n",
       "├─Sequential (classifier)                                    [32, 1280]           [32, 1000]           --                   True\n",
       "│    └─Dropout (0)                                           [32, 1280]           [32, 1280]           --                   --\n",
       "│    └─Linear (1)                                            [32, 1280]           [32, 1000]           1,281,000            True\n",
       "============================================================================================================================================\n",
       "Total params: 7,794,184\n",
       "Trainable params: 7,794,184\n",
       "Non-trainable params: 0\n",
       "Total mult-adds (Units.GIGABYTES): 18.23\n",
       "============================================================================================================================================\n",
       "Input size (MB): 19.27\n",
       "Forward/backward pass size (MB): 4786.26\n",
       "Params size (MB): 31.18\n",
       "Estimated Total Size (MB): 4836.70\n",
       "============================================================================================================================================"
      ]
     },
     "execution_count": 60,
     "metadata": {},
     "output_type": "execute_result"
    }
   ],
   "execution_count": 60
  },
  {
   "metadata": {
    "ExecuteTime": {
     "end_time": "2025-10-01T18:36:47.074710Z",
     "start_time": "2025-10-01T18:36:47.071728Z"
    }
   },
   "cell_type": "code",
   "source": [
    "for param in effnetb1.features.parameters():\n",
    "    param.requires_grad=False\n",
    "\n",
    "set_seed()\n",
    "effnetb1.classifier = nn.Sequential(\n",
    "    nn.Dropout(p=0.2,inplace=True),\n",
    "    nn.Linear(in_features=1280,out_features=len(class_names),bias=True)\n",
    ")"
   ],
   "id": "e5025c69cd98ed44",
   "outputs": [],
   "execution_count": 61
  },
  {
   "metadata": {
    "ExecuteTime": {
     "end_time": "2025-10-01T18:36:48.752645Z",
     "start_time": "2025-10-01T18:36:47.076524Z"
    }
   },
   "cell_type": "code",
   "source": [
    "model_summary = summary(\n",
    "    model=effnetb1,\n",
    "    input_size=(32,3,224,224),\n",
    "    verbose=0,\n",
    "    col_names = ['input_size', 'output_size', 'num_params','trainable'],\n",
    "    col_width=20,\n",
    "    row_settings=['var_names']\n",
    ")\n",
    "model_summary"
   ],
   "id": "788d74c741f967",
   "outputs": [
    {
     "data": {
      "text/plain": [
       "============================================================================================================================================\n",
       "Layer (type (var_name))                                      Input Shape          Output Shape         Param #              Trainable\n",
       "============================================================================================================================================\n",
       "EfficientNet (EfficientNet)                                  [32, 3, 224, 224]    [32, 3]              --                   Partial\n",
       "├─Sequential (features)                                      [32, 3, 224, 224]    [32, 1280, 7, 7]     --                   False\n",
       "│    └─Conv2dNormActivation (0)                              [32, 3, 224, 224]    [32, 32, 112, 112]   --                   False\n",
       "│    │    └─Conv2d (0)                                       [32, 3, 224, 224]    [32, 32, 112, 112]   (864)                False\n",
       "│    │    └─BatchNorm2d (1)                                  [32, 32, 112, 112]   [32, 32, 112, 112]   (64)                 False\n",
       "│    │    └─SiLU (2)                                         [32, 32, 112, 112]   [32, 32, 112, 112]   --                   --\n",
       "│    └─Sequential (1)                                        [32, 32, 112, 112]   [32, 16, 112, 112]   --                   False\n",
       "│    │    └─MBConv (0)                                       [32, 32, 112, 112]   [32, 16, 112, 112]   (1,448)              False\n",
       "│    │    └─MBConv (1)                                       [32, 16, 112, 112]   [32, 16, 112, 112]   (612)                False\n",
       "│    └─Sequential (2)                                        [32, 16, 112, 112]   [32, 24, 56, 56]     --                   False\n",
       "│    │    └─MBConv (0)                                       [32, 16, 112, 112]   [32, 24, 56, 56]     (6,004)              False\n",
       "│    │    └─MBConv (1)                                       [32, 24, 56, 56]     [32, 24, 56, 56]     (10,710)             False\n",
       "│    │    └─MBConv (2)                                       [32, 24, 56, 56]     [32, 24, 56, 56]     (10,710)             False\n",
       "│    └─Sequential (3)                                        [32, 24, 56, 56]     [32, 40, 28, 28]     --                   False\n",
       "│    │    └─MBConv (0)                                       [32, 24, 56, 56]     [32, 40, 28, 28]     (15,350)             False\n",
       "│    │    └─MBConv (1)                                       [32, 40, 28, 28]     [32, 40, 28, 28]     (31,290)             False\n",
       "│    │    └─MBConv (2)                                       [32, 40, 28, 28]     [32, 40, 28, 28]     (31,290)             False\n",
       "│    └─Sequential (4)                                        [32, 40, 28, 28]     [32, 80, 14, 14]     --                   False\n",
       "│    │    └─MBConv (0)                                       [32, 40, 28, 28]     [32, 80, 14, 14]     (37,130)             False\n",
       "│    │    └─MBConv (1)                                       [32, 80, 14, 14]     [32, 80, 14, 14]     (102,900)            False\n",
       "│    │    └─MBConv (2)                                       [32, 80, 14, 14]     [32, 80, 14, 14]     (102,900)            False\n",
       "│    │    └─MBConv (3)                                       [32, 80, 14, 14]     [32, 80, 14, 14]     (102,900)            False\n",
       "│    └─Sequential (5)                                        [32, 80, 14, 14]     [32, 112, 14, 14]    --                   False\n",
       "│    │    └─MBConv (0)                                       [32, 80, 14, 14]     [32, 112, 14, 14]    (126,004)            False\n",
       "│    │    └─MBConv (1)                                       [32, 112, 14, 14]    [32, 112, 14, 14]    (208,572)            False\n",
       "│    │    └─MBConv (2)                                       [32, 112, 14, 14]    [32, 112, 14, 14]    (208,572)            False\n",
       "│    │    └─MBConv (3)                                       [32, 112, 14, 14]    [32, 112, 14, 14]    (208,572)            False\n",
       "│    └─Sequential (6)                                        [32, 112, 14, 14]    [32, 192, 7, 7]      --                   False\n",
       "│    │    └─MBConv (0)                                       [32, 112, 14, 14]    [32, 192, 7, 7]      (262,492)            False\n",
       "│    │    └─MBConv (1)                                       [32, 192, 7, 7]      [32, 192, 7, 7]      (587,952)            False\n",
       "│    │    └─MBConv (2)                                       [32, 192, 7, 7]      [32, 192, 7, 7]      (587,952)            False\n",
       "│    │    └─MBConv (3)                                       [32, 192, 7, 7]      [32, 192, 7, 7]      (587,952)            False\n",
       "│    │    └─MBConv (4)                                       [32, 192, 7, 7]      [32, 192, 7, 7]      (587,952)            False\n",
       "│    └─Sequential (7)                                        [32, 192, 7, 7]      [32, 320, 7, 7]      --                   False\n",
       "│    │    └─MBConv (0)                                       [32, 192, 7, 7]      [32, 320, 7, 7]      (717,232)            False\n",
       "│    │    └─MBConv (1)                                       [32, 320, 7, 7]      [32, 320, 7, 7]      (1,563,600)          False\n",
       "│    └─Conv2dNormActivation (8)                              [32, 320, 7, 7]      [32, 1280, 7, 7]     --                   False\n",
       "│    │    └─Conv2d (0)                                       [32, 320, 7, 7]      [32, 1280, 7, 7]     (409,600)            False\n",
       "│    │    └─BatchNorm2d (1)                                  [32, 1280, 7, 7]     [32, 1280, 7, 7]     (2,560)              False\n",
       "│    │    └─SiLU (2)                                         [32, 1280, 7, 7]     [32, 1280, 7, 7]     --                   --\n",
       "├─AdaptiveAvgPool2d (avgpool)                                [32, 1280, 7, 7]     [32, 1280, 1, 1]     --                   --\n",
       "├─Sequential (classifier)                                    [32, 1280]           [32, 3]              --                   True\n",
       "│    └─Dropout (0)                                           [32, 1280]           [32, 1280]           --                   --\n",
       "│    └─Linear (1)                                            [32, 1280]           [32, 3]              3,843                True\n",
       "============================================================================================================================================\n",
       "Total params: 6,517,027\n",
       "Trainable params: 3,843\n",
       "Non-trainable params: 6,513,184\n",
       "Total mult-adds (Units.GIGABYTES): 18.19\n",
       "============================================================================================================================================\n",
       "Input size (MB): 19.27\n",
       "Forward/backward pass size (MB): 4786.00\n",
       "Params size (MB): 26.07\n",
       "Estimated Total Size (MB): 4831.34\n",
       "============================================================================================================================================"
      ]
     },
     "execution_count": 62,
     "metadata": {},
     "output_type": "execute_result"
    }
   ],
   "execution_count": 62
  },
  {
   "metadata": {
    "ExecuteTime": {
     "end_time": "2025-10-01T19:04:52.027194Z",
     "start_time": "2025-10-01T18:36:48.768297Z"
    }
   },
   "cell_type": "code",
   "source": [
    "experiment_number = 0\n",
    "set_seed()\n",
    "model_name = \"effnetb1\"\n",
    "num_epochs = [5,10]\n",
    "for epochs in num_epochs:\n",
    "    experiment_number += 1\n",
    "    print(f\"[INFO] Experiment number: {experiment_number}\")\n",
    "    print(f\"[INFO] Model: {model_name}\")\n",
    "    print(f\"[INFO] Number of epochs: {epochs}\")\n",
    "\n",
    "    loss_fn = nn.CrossEntropyLoss()\n",
    "    optimizer = torch.optim.Adam(params=effnetb1.parameters(),lr=0.001)\n",
    "\n",
    "    train(\n",
    "    model = effnetb1,\n",
    "    train_dataloader=train_dataloader,\n",
    "    test_dataloader=test_dataloader,\n",
    "    optimizer=optimizer,\n",
    "    loss_fn=loss_fn,\n",
    "    epochs=epochs,\n",
    "    device=device,\n",
    "    writer=create_writer(\n",
    "        experiment_name=\"data_20_percent\",\n",
    "        model_name=model_name,\n",
    "        extra=f\"{epochs}_epochs\"\n",
    "    ))\n",
    "\n",
    "    save_path = f'{model_name}_data_20_percent_{epochs}_epochs.pth'\n",
    "    save_model(\n",
    "    model=effnetb1,\n",
    "    target_dir=\"models\",\n",
    "    model_name=save_path\n",
    "    )\n",
    "    print(\"-\"*50 + \"\\n\")\n"
   ],
   "id": "a1f345fd3b133be0",
   "outputs": [
    {
     "name": "stdout",
     "output_type": "stream",
     "text": [
      "[INFO] Experiment number: 1\n",
      "[INFO] Model: effnetb1\n",
      "[INFO] Number of epochs: 5\n",
      "[INFO] Created SummaryWriter. saving to runs/2025-10-01/data_20_percent/effnetb1/5_epochs...\n",
      "Epoch 1| Train Loss: 1.028| Train Acc: 0.529| Test Loss: 0.880| Test Acc: 0.880\n",
      "Epoch 2| Train Loss: 0.807| Train Acc: 0.850| Test Loss: 0.722| Test Acc: 0.914\n",
      "Epoch 3| Train Loss: 0.721| Train Acc: 0.863| Test Loss: 0.615| Test Acc: 0.904\n",
      "Epoch 4| Train Loss: 0.629| Train Acc: 0.869| Test Loss: 0.547| Test Acc: 0.929\n",
      "Epoch 5| Train Loss: 0.580| Train Acc: 0.879| Test Loss: 0.469| Test Acc: 0.941\n",
      "[INFO]Saving model to models/effnetb1_data_20_percent_5_epochs.pth\n",
      "--------------------------------------------------\n",
      "\n",
      "[INFO] Experiment number: 2\n",
      "[INFO] Model: effnetb1\n",
      "[INFO] Number of epochs: 10\n",
      "[INFO] Created SummaryWriter. saving to runs/2025-10-01/data_20_percent/effnetb1/10_epochs...\n",
      "Epoch 1| Train Loss: 0.517| Train Acc: 0.842| Test Loss: 0.405| Test Acc: 0.941\n",
      "Epoch 2| Train Loss: 0.459| Train Acc: 0.885| Test Loss: 0.389| Test Acc: 0.938\n",
      "Epoch 3| Train Loss: 0.415| Train Acc: 0.912| Test Loss: 0.346| Test Acc: 0.935\n",
      "Epoch 4| Train Loss: 0.367| Train Acc: 0.912| Test Loss: 0.331| Test Acc: 0.947\n",
      "Epoch 5| Train Loss: 0.380| Train Acc: 0.940| Test Loss: 0.333| Test Acc: 0.947\n",
      "Epoch 6| Train Loss: 0.383| Train Acc: 0.902| Test Loss: 0.308| Test Acc: 0.953\n",
      "Epoch 7| Train Loss: 0.370| Train Acc: 0.885| Test Loss: 0.277| Test Acc: 0.935\n",
      "Epoch 8| Train Loss: 0.314| Train Acc: 0.917| Test Loss: 0.289| Test Acc: 0.953\n",
      "Epoch 9| Train Loss: 0.332| Train Acc: 0.910| Test Loss: 0.299| Test Acc: 0.947\n",
      "Epoch 10| Train Loss: 0.290| Train Acc: 0.954| Test Loss: 0.283| Test Acc: 0.941\n",
      "[INFO]Saving model to models/effnetb1_data_20_percent_10_epochs.pth\n",
      "--------------------------------------------------\n",
      "\n"
     ]
    }
   ],
   "execution_count": 63
  }
 ],
 "metadata": {
  "kernelspec": {
   "name": "python3",
   "language": "python",
   "display_name": "Python 3 (ipykernel)"
  }
 },
 "nbformat": 4,
 "nbformat_minor": 5
}
