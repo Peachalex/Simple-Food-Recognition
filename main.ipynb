{
 "cells": [
  {
   "metadata": {
    "ExecuteTime": {
     "end_time": "2025-09-25T19:26:52.762341Z",
     "start_time": "2025-09-25T19:26:51.408760Z"
    }
   },
   "cell_type": "code",
   "source": [
    "import matplotlib.pyplot as plt\n",
    "import torch\n",
    "import torchvision\n",
    "from openpyxl.styles.builtins import output\n",
    "from torch import nn\n",
    "from torch.cuda import is_available\n",
    "from torch.utils.data import DataLoader\n",
    "from torchvision import datasets, transforms\n",
    "from torchinfo import summary\n",
    "import modules.data_setup as data_setup\n",
    "import modules.engine as engine\n",
    "import os\n",
    "\n",
    "\n",
    "device = torch.device(\"cuda:0\" if torch.cuda.is_available() else \"cpu\")\n",
    "print(f\"Device: {device}\")"
   ],
   "id": "6fd7d9eb3fb917f1",
   "outputs": [
    {
     "name": "stdout",
     "output_type": "stream",
     "text": [
      "(train_dir: str, test_dir: str, train_transform: torchvision.transforms.transforms.Compose = None, test_transform: torchvision.transforms.transforms.Compose = None, batch_size: int = 32, num_workers: int = 10)\n",
      "Device: cpu\n"
     ]
    },
    {
     "name": "stderr",
     "output_type": "stream",
     "text": [
      "/Library/Frameworks/Python.framework/Versions/3.12/lib/python3.12/site-packages/tqdm/auto.py:21: TqdmWarning: IProgress not found. Please update jupyter and ipywidgets. See https://ipywidgets.readthedocs.io/en/stable/user_install.html\n",
      "  from .autonotebook import tqdm as notebook_tqdm\n"
     ]
    }
   ],
   "execution_count": 2
  },
  {
   "metadata": {
    "ExecuteTime": {
     "end_time": "2025-09-25T19:26:52.768846Z",
     "start_time": "2025-09-25T19:26:52.767193Z"
    }
   },
   "cell_type": "code",
   "source": [
    "version = torch.__version__\n",
    "print(f\"PyTorch Version: {version}\")"
   ],
   "id": "53f59231b8f5a57b",
   "outputs": [
    {
     "name": "stdout",
     "output_type": "stream",
     "text": [
      "PyTorch Version: 2.8.0\n"
     ]
    }
   ],
   "execution_count": 3
  },
  {
   "metadata": {
    "ExecuteTime": {
     "end_time": "2025-09-25T19:26:52.826582Z",
     "start_time": "2025-09-25T19:26:52.777127Z"
    }
   },
   "cell_type": "code",
   "source": [
    "import requests\n",
    "from pathlib import Path\n",
    "import zipfile\n",
    "\n",
    "data_path = Path('data')\n",
    "image_path = data_path / 'pizza_steak_sushi_20_percent'\n",
    "\n",
    "if image_path.is_dir():\n",
    "    print(f'{image_path} exists')\n",
    "else:\n",
    "    print(f'{image_path} does not exist, creating...')\n",
    "    image_path.mkdir(parents=True, exist_ok=True)\n",
    "\n",
    "    with open(data_path / 'pizza_steak_sushi_20_percent.zip','wb') as f:\n",
    "         request = requests.get(\"https://github.com/mrdbourke/pytorch-deep-learning/raw/main/data/pizza_steak_sushi_20_percent.zip\")\n",
    "         print('Downloading pizza_steak_sushi_20_percent data')\n",
    "         f.write(request.content)\n",
    "    with zipfile.ZipFile(data_path / 'pizza_steak_sushi_20_percent.zip','r') as zip_ref:\n",
    "        print(\"Extracting pizza_steak_sushi_20_percent.zip\")\n",
    "        zip_ref.extractall(image_path)\n",
    "\n",
    "    os.remove(data_path / 'pizza_steak_sushi_20_percent.zip')"
   ],
   "id": "d4c825d3736e97d1",
   "outputs": [
    {
     "name": "stdout",
     "output_type": "stream",
     "text": [
      "data/pizza_steak_sushi_20_percent exists\n"
     ]
    }
   ],
   "execution_count": 4
  },
  {
   "metadata": {
    "ExecuteTime": {
     "end_time": "2025-09-25T19:26:52.830912Z",
     "start_time": "2025-09-25T19:26:52.829348Z"
    }
   },
   "cell_type": "code",
   "source": "device = torch.device('cuda' if torch.cuda.is_available() else 'cpu') #device agnostic setting",
   "id": "261e0447e63abe0f",
   "outputs": [],
   "execution_count": 5
  },
  {
   "metadata": {
    "ExecuteTime": {
     "end_time": "2025-09-25T19:26:52.837090Z",
     "start_time": "2025-09-25T19:26:52.835621Z"
    }
   },
   "cell_type": "code",
   "source": [
    "def set_seed(seed:int=42):\n",
    "    torch.manual_seed(seed)\n",
    "    torch.cuda.manual_seed(seed)"
   ],
   "id": "ce3e0429839a59a5",
   "outputs": [],
   "execution_count": 6
  },
  {
   "metadata": {
    "ExecuteTime": {
     "end_time": "2025-09-25T19:26:52.841743Z",
     "start_time": "2025-09-25T19:26:52.840112Z"
    }
   },
   "cell_type": "code",
   "source": [
    "train_dir = image_path/'train'\n",
    "test_dir = image_path/'test'\n",
    "normalize = transforms.Normalize(\n",
    "    mean=[0.485,0.456,0.406],\n",
    "    std=[0.229,0.224,0.225]\n",
    ")\n",
    "simple_transform = transforms.Compose([\n",
    "    transforms.Resize((224,224)),\n",
    "    transforms.ToTensor(),\n",
    "    normalize\n",
    "])\n",
    "print(simple_transform)\n"
   ],
   "id": "edbf9f109660a420",
   "outputs": [
    {
     "name": "stdout",
     "output_type": "stream",
     "text": [
      "Compose(\n",
      "    Resize(size=(224, 224), interpolation=bilinear, max_size=None, antialias=True)\n",
      "    ToTensor()\n",
      "    Normalize(mean=[0.485, 0.456, 0.406], std=[0.229, 0.224, 0.225])\n",
      ")\n"
     ]
    }
   ],
   "execution_count": 7
  },
  {
   "metadata": {
    "ExecuteTime": {
     "end_time": "2025-09-25T19:26:52.853356Z",
     "start_time": "2025-09-25T19:26:52.851076Z"
    }
   },
   "cell_type": "code",
   "source": [
    "data_augmentation_transform = transforms.Compose([\n",
    "    transforms.Resize((224,224)),\n",
    "    transforms.TrivialAugmentWide(),\n",
    "    transforms.ToTensor(),\n",
    "    normalize\n",
    "])\n",
    "print(data_augmentation_transform)"
   ],
   "id": "75cc735b8af7ab6d",
   "outputs": [
    {
     "name": "stdout",
     "output_type": "stream",
     "text": [
      "Compose(\n",
      "    Resize(size=(224, 224), interpolation=bilinear, max_size=None, antialias=True)\n",
      "    TrivialAugmentWide(num_magnitude_bins=31, interpolation=InterpolationMode.NEAREST, fill=None)\n",
      "    ToTensor()\n",
      "    Normalize(mean=[0.485, 0.456, 0.406], std=[0.229, 0.224, 0.225])\n",
      ")\n"
     ]
    }
   ],
   "execution_count": 8
  },
  {
   "metadata": {
    "ExecuteTime": {
     "end_time": "2025-09-25T19:26:52.866373Z",
     "start_time": "2025-09-25T19:26:52.862180Z"
    }
   },
   "cell_type": "code",
   "source": [
    "train_dataloader,test_dataloader,class_names = data_setup.create_dataloaders(\n",
    "                                                train_dir=train_dir,\n",
    "                                                test_dir=test_dir,\n",
    "                                                train_transform=simple_transform,\n",
    "                                                test_transform=simple_transform,\n",
    "                                                batch_size=32)\n",
    "train_dataloader,test_dataloader,class_names"
   ],
   "id": "41a2103bf4b7699a",
   "outputs": [
    {
     "data": {
      "text/plain": [
       "(<torch.utils.data.dataloader.DataLoader at 0x11fa22660>,\n",
       " <torch.utils.data.dataloader.DataLoader at 0x107e61340>,\n",
       " ['pizza', 'steak', 'sushi'])"
      ]
     },
     "execution_count": 9,
     "metadata": {},
     "output_type": "execute_result"
    }
   ],
   "execution_count": 9
  },
  {
   "metadata": {
    "ExecuteTime": {
     "end_time": "2025-09-25T19:26:52.878184Z",
     "start_time": "2025-09-25T19:26:52.874222Z"
    }
   },
   "cell_type": "code",
   "source": [
    "train_dataloader_with_aug,test_dataloader,class_names = data_setup.create_dataloaders(\n",
    "    train_dir=train_dir,\n",
    "    test_dir=test_dir,\n",
    "    train_transform=data_augmentation_transform,\n",
    "    test_transform=simple_transform,\n",
    "    batch_size=32\n",
    ")\n",
    "train_dataloader_with_aug,test_dataloader,class_names"
   ],
   "id": "7cc8646b65012610",
   "outputs": [
    {
     "data": {
      "text/plain": [
       "(<torch.utils.data.dataloader.DataLoader at 0x11ff3c7a0>,\n",
       " <torch.utils.data.dataloader.DataLoader at 0x119e5d5b0>,\n",
       " ['pizza', 'steak', 'sushi'])"
      ]
     },
     "execution_count": 10,
     "metadata": {},
     "output_type": "execute_result"
    }
   ],
   "execution_count": 10
  },
  {
   "metadata": {
    "ExecuteTime": {
     "end_time": "2025-09-25T21:09:44.538404Z",
     "start_time": "2025-09-25T21:09:44.533318Z"
    }
   },
   "cell_type": "code",
   "source": [
    "output_shape = len(class_names)\n",
    "def create_effnetb2():\n",
    "\n",
    "    weights = torchvision.models.EfficientNet_B2_Weights.DEFAULT\n",
    "    model = torchvision.models.efficientnet_b2(weights=weights)\n",
    "\n",
    "    for param in model.parameters():\n",
    "        param.requires_grad = False\n",
    "\n",
    "    torch.manual_seed(42)\n",
    "\n",
    "    model_classifier = nn.Sequential(\n",
    "        nn.Dropout(p=0.3,inplace=True),\n",
    "        nn.Linear(in_features=1408,out_features=output_shape)\n",
    "    )\n",
    "\n",
    "    model.name = 'effnet-b2'\n",
    "    print(f'[INFO] efficientnet-b2 model created: {model.name}')\n",
    "    return model"
   ],
   "id": "b2e2047eb1c85308",
   "outputs": [],
   "execution_count": 18
  },
  {
   "metadata": {
    "ExecuteTime": {
     "end_time": "2025-09-25T21:10:06.444127Z",
     "start_time": "2025-09-25T21:10:06.307579Z"
    }
   },
   "cell_type": "code",
   "source": [
    "num_epochs = [5,10]\n",
    "effnetb2 = create_effnetb2()"
   ],
   "id": "703e79916bcc854f",
   "outputs": [
    {
     "name": "stdout",
     "output_type": "stream",
     "text": [
      "[INFO] efficientnet-b2 model created: effnet-b2\n"
     ]
    }
   ],
   "execution_count": 19
  },
  {
   "metadata": {
    "ExecuteTime": {
     "end_time": "2025-09-25T21:12:03.141326Z",
     "start_time": "2025-09-25T21:12:03.138859Z"
    }
   },
   "cell_type": "code",
   "source": [
    "models = ['effnetb2']\n",
    "train_dataloaders = {\n",
    "    'data_without_augmentation': train_dataloader,\n",
    "    'data_with_augmentation': train_dataloader_with_aug,\n",
    "}"
   ],
   "id": "6bfa3c35f0b84850",
   "outputs": [],
   "execution_count": 20
  }
 ],
 "metadata": {
  "kernelspec": {
   "name": "python3",
   "language": "python",
   "display_name": "Python 3 (ipykernel)"
  }
 },
 "nbformat": 4,
 "nbformat_minor": 5
}
