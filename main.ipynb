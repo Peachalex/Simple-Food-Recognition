{
 "cells": [
  {
   "metadata": {
    "ExecuteTime": {
     "end_time": "2025-09-24T19:59:37.188246Z",
     "start_time": "2025-09-24T19:59:37.167649Z"
    }
   },
   "cell_type": "code",
   "source": [
    "import matplotlib.pyplot as plt\n",
    "import torch\n",
    "import torchvision\n",
    "from torch import nn\n",
    "from torch.cuda import is_available\n",
    "from torch.utils.data import DataLoader\n",
    "from torchvision import datasets, transforms\n",
    "from torchinfo import summary\n",
    "import modules.data_setup as data_setup\n",
    "import modules.engine as engine\n",
    "import os\n",
    "\n",
    "\n",
    "device = torch.device(\"cuda:0\" if torch.cuda.is_available() else \"cpu\")\n",
    "print(f\"Device: {device}\")"
   ],
   "id": "6fd7d9eb3fb917f1",
   "outputs": [
    {
     "name": "stdout",
     "output_type": "stream",
     "text": [
      "(train_dir: str, test_dir: str, train_transform: torchvision.transforms.transforms.Compose = None, test_transform: torchvision.transforms.transforms.Compose = None, batch_size: int = 32, num_workers: int = 10)\n",
      "Device: cpu\n"
     ]
    },
    {
     "name": "stderr",
     "output_type": "stream",
     "text": [
      "/Library/Frameworks/Python.framework/Versions/3.12/lib/python3.12/site-packages/tqdm/auto.py:21: TqdmWarning: IProgress not found. Please update jupyter and ipywidgets. See https://ipywidgets.readthedocs.io/en/stable/user_install.html\n",
      "  from .autonotebook import tqdm as notebook_tqdm\n"
     ]
    }
   ],
   "execution_count": 2
  },
  {
   "metadata": {
    "ExecuteTime": {
     "end_time": "2025-09-24T19:59:37.195329Z",
     "start_time": "2025-09-24T19:59:37.193380Z"
    }
   },
   "cell_type": "code",
   "source": [
    "version = torch.__version__\n",
    "print(f\"PyTorch Version: {version}\")"
   ],
   "id": "53f59231b8f5a57b",
   "outputs": [
    {
     "name": "stdout",
     "output_type": "stream",
     "text": [
      "PyTorch Version: 2.8.0\n"
     ]
    }
   ],
   "execution_count": 3
  },
  {
   "metadata": {
    "ExecuteTime": {
     "end_time": "2025-09-24T19:59:37.264387Z",
     "start_time": "2025-09-24T19:59:37.202154Z"
    }
   },
   "cell_type": "code",
   "source": [
    "import requests\n",
    "from pathlib import Path\n",
    "import zipfile\n",
    "\n",
    "data_path = Path('data')\n",
    "image_path = data_path / 'pizza_steak_sushi_20_percent'\n",
    "\n",
    "if image_path.is_dir():\n",
    "    print(f'{image_path} exists')\n",
    "else:\n",
    "    print(f'{image_path} does not exist, creating...')\n",
    "    image_path.mkdir(parents=True, exist_ok=True)\n",
    "\n",
    "    with open(data_path / 'pizza_steak_sushi_20_percent.zip','wb') as f:\n",
    "         request = requests.get(\"https://github.com/mrdbourke/pytorch-deep-learning/raw/main/data/pizza_steak_sushi_20_percent.zip\")\n",
    "         print('Downloading pizza_steak_sushi_20_percent data')\n",
    "         f.write(request.content)\n",
    "    with zipfile.ZipFile(data_path / 'pizza_steak_sushi_20_percent.zip','r') as zip_ref:\n",
    "        print(\"Extracting pizza_steak_sushi_20_percent.zip\")\n",
    "        zip_ref.extractall(image_path)\n",
    "\n",
    "    os.remove(data_path / 'pizza_steak_sushi_20_percent.zip')"
   ],
   "id": "d4c825d3736e97d1",
   "outputs": [
    {
     "name": "stdout",
     "output_type": "stream",
     "text": [
      "data/pizza_steak_sushi_20_percent exists\n"
     ]
    }
   ],
   "execution_count": 4
  },
  {
   "metadata": {
    "ExecuteTime": {
     "end_time": "2025-09-24T19:59:37.269325Z",
     "start_time": "2025-09-24T19:59:37.267364Z"
    }
   },
   "cell_type": "code",
   "source": "device = torch.device('cuda' if torch.cuda.is_available() else 'cpu') #device agnostic setting",
   "id": "261e0447e63abe0f",
   "outputs": [],
   "execution_count": 5
  },
  {
   "metadata": {
    "ExecuteTime": {
     "end_time": "2025-09-24T19:59:37.274141Z",
     "start_time": "2025-09-24T19:59:37.272678Z"
    }
   },
   "cell_type": "code",
   "source": [
    "def set_seed(seed:int=42):\n",
    "    torch.manual_seed(seed)\n",
    "    torch.cuda.manual_seed(seed)"
   ],
   "id": "ce3e0429839a59a5",
   "outputs": [],
   "execution_count": 6
  },
  {
   "metadata": {
    "ExecuteTime": {
     "end_time": "2025-09-24T19:59:37.291435Z",
     "start_time": "2025-09-24T19:59:37.278727Z"
    }
   },
   "cell_type": "code",
   "source": [
    "train_dir = image_path/'train'\n",
    "test_dir = image_path/'test'\n",
    "normalize = transforms.Normalize(\n",
    "    mean=[0.485,0.456,0.406],\n",
    "    std=[0.229,0.224,0.225]\n",
    ")\n",
    "simple_transform = transforms.Compose([\n",
    "    transforms.Resize((224,224)),\n",
    "    transforms.ToTensor(),\n",
    "    normalize\n",
    "])\n",
    "print(simple_transform)\n"
   ],
   "id": "edbf9f109660a420",
   "outputs": [
    {
     "name": "stdout",
     "output_type": "stream",
     "text": [
      "Compose(\n",
      "    Resize(size=(224, 224), interpolation=bilinear, max_size=None, antialias=True)\n",
      "    ToTensor()\n",
      "    Normalize(mean=[0.485, 0.456, 0.406], std=[0.229, 0.224, 0.225])\n",
      ")\n"
     ]
    }
   ],
   "execution_count": 7
  },
  {
   "metadata": {
    "ExecuteTime": {
     "end_time": "2025-09-24T19:59:37.312650Z",
     "start_time": "2025-09-24T19:59:37.308128Z"
    }
   },
   "cell_type": "code",
   "source": [
    "data_augmentation_transform = transforms.Compose([\n",
    "    transforms.Resize((224,224)),\n",
    "    transforms.TrivialAugmentWide(),\n",
    "    transforms.ToTensor(),\n",
    "    normalize\n",
    "])\n",
    "print(data_augmentation_transform)"
   ],
   "id": "75cc735b8af7ab6d",
   "outputs": [
    {
     "name": "stdout",
     "output_type": "stream",
     "text": [
      "Compose(\n",
      "    Resize(size=(224, 224), interpolation=bilinear, max_size=None, antialias=True)\n",
      "    TrivialAugmentWide(num_magnitude_bins=31, interpolation=InterpolationMode.NEAREST, fill=None)\n",
      "    ToTensor()\n",
      "    Normalize(mean=[0.485, 0.456, 0.406], std=[0.229, 0.224, 0.225])\n",
      ")\n"
     ]
    }
   ],
   "execution_count": 8
  },
  {
   "metadata": {
    "ExecuteTime": {
     "end_time": "2025-09-24T20:02:11.105367Z",
     "start_time": "2025-09-24T20:02:11.096495Z"
    }
   },
   "cell_type": "code",
   "source": [
    "train_dataloader,test_dataloader,class_names = data_setup.create_dataloaders(\n",
    "                                                train_dir=train_dir,\n",
    "                                                test_dir=test_dir,\n",
    "                                                train_transform=simple_transform,\n",
    "                                                test_transform=simple_transform,\n",
    "                                                batch_size=32)\n",
    "train_dataloader,test_dataloader,class_names"
   ],
   "id": "41a2103bf4b7699a",
   "outputs": [
    {
     "data": {
      "text/plain": [
       "(<torch.utils.data.dataloader.DataLoader at 0x12794ef60>,\n",
       " <torch.utils.data.dataloader.DataLoader at 0x127c5c500>,\n",
       " ['pizza', 'steak', 'sushi'])"
      ]
     },
     "execution_count": 10,
     "metadata": {},
     "output_type": "execute_result"
    }
   ],
   "execution_count": 10
  },
  {
   "metadata": {
    "ExecuteTime": {
     "end_time": "2025-09-24T20:02:29.430168Z",
     "start_time": "2025-09-24T20:02:29.422341Z"
    }
   },
   "cell_type": "code",
   "source": [
    "train_dataloader_with_aug,test_dataloader,class_names = data_setup.create_dataloaders(\n",
    "    train_dir=train_dir,\n",
    "    test_dir=test_dir,\n",
    "    train_transform=data_augmentation_transform,\n",
    "    test_transform=simple_transform,\n",
    "    batch_size=32\n",
    ")\n",
    "train_dataloader_with_aug,test_dataloader,class_names"
   ],
   "id": "7cc8646b65012610",
   "outputs": [
    {
     "data": {
      "text/plain": [
       "(<torch.utils.data.dataloader.DataLoader at 0x127c1d580>,\n",
       " <torch.utils.data.dataloader.DataLoader at 0x10812f3e0>,\n",
       " ['pizza', 'steak', 'sushi'])"
      ]
     },
     "execution_count": 11,
     "metadata": {},
     "output_type": "execute_result"
    }
   ],
   "execution_count": 11
  }
 ],
 "metadata": {
  "kernelspec": {
   "name": "python3",
   "language": "python",
   "display_name": "Python 3 (ipykernel)"
  }
 },
 "nbformat": 4,
 "nbformat_minor": 5
}
