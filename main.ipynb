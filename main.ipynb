{
 "cells": [
  {
   "metadata": {},
   "cell_type": "code",
   "source": [
    "import matplotlib.pyplot as plt\n",
    "import torch\n",
    "import torchvision\n",
    "\n",
    "\n",
    "from torch import nn\n",
    "\n",
    "from torch.utils.data import DataLoader\n",
    "from torchvision import datasets, transforms\n",
    "from torchinfo import summary\n",
    "import modules.data_setup as data_setup\n",
    "from modules.engine import train_step,test_step,train\n",
    "from modules.create_writer import create_writer\n",
    "from modules.predict_plot import device, pred_and_plot_image\n",
    "from modules.save_model import save_model\n",
    "import os\n",
    "\n",
    "\n",
    "device = torch.device(\"cuda:0\" if torch.cuda.is_available() else \"cpu\")\n",
    "print(f\"Device: {device}\")"
   ],
   "id": "6fd7d9eb3fb917f1",
   "outputs": [],
   "execution_count": null
  },
  {
   "metadata": {},
   "cell_type": "code",
   "source": [
    "version = torch.__version__\n",
    "print(f\"PyTorch Version: {version}\")"
   ],
   "id": "53f59231b8f5a57b",
   "outputs": [],
   "execution_count": null
  },
  {
   "metadata": {},
   "cell_type": "code",
   "source": [
    "import requests\n",
    "from pathlib import Path\n",
    "import zipfile\n",
    "\n",
    "data_path = Path('data')\n",
    "data_20_percent_path = data_path / 'pizza_steak_sushi_20_percent'\n",
    "\n",
    "if data_20_percent_path.is_dir():\n",
    "    print(f'{data_20_percent_path} exists')\n",
    "else:\n",
    "    print(f'{data_20_percent_path} does not exist, creating...')\n",
    "    data_20_percent_path.mkdir(parents=True, exist_ok=True)\n",
    "\n",
    "    with open(data_path / 'pizza_steak_sushi_20_percent.zip','wb') as f:\n",
    "         request = requests.get(\"https://github.com/mrdbourke/pytorch-deep-learning/raw/main/data/pizza_steak_sushi_20_percent.zip\")\n",
    "         print('Downloading pizza_steak_sushi_20_percent data')\n",
    "         f.write(request.content)\n",
    "    with zipfile.ZipFile(data_path / 'pizza_steak_sushi_20_percent.zip','r') as zip_ref:\n",
    "        print(\"Extracting pizza_steak_sushi_20_percent.zip\")\n",
    "        zip_ref.extractall(data_20_percent_path)\n",
    "\n",
    "    os.remove(data_path / 'pizza_steak_sushi_20_percent.zip')"
   ],
   "id": "d4c825d3736e97d1",
   "outputs": [],
   "execution_count": null
  },
  {
   "metadata": {},
   "cell_type": "code",
   "source": [
    "def set_seed(seed:int=42):\n",
    "    torch.manual_seed(seed)\n",
    "    torch.cuda.manual_seed(seed)"
   ],
   "id": "ce3e0429839a59a5",
   "outputs": [],
   "execution_count": null
  },
  {
   "metadata": {},
   "cell_type": "code",
   "source": [
    "train_dir = data_20_percent_path/'train'\n",
    "test_dir = data_20_percent_path/'test'\n",
    "normalize = transforms.Normalize(\n",
    "    mean=[0.485,0.456,0.406],\n",
    "    std=[0.229,0.224,0.225]\n",
    ")\n",
    "simple_transform = transforms.Compose([\n",
    "    transforms.Resize((224,224)),\n",
    "    transforms.ToTensor(),\n",
    "    normalize\n",
    "])\n",
    "print(simple_transform)\n"
   ],
   "id": "edbf9f109660a420",
   "outputs": [],
   "execution_count": null
  },
  {
   "metadata": {},
   "cell_type": "code",
   "source": [
    "train_dataloader,test_dataloader,class_names = data_setup.create_dataloaders(\n",
    "                                                train_dir=train_dir,\n",
    "                                                test_dir=test_dir,\n",
    "                                                train_transform=simple_transform,\n",
    "                                                test_transform=simple_transform,\n",
    "                                                batch_size=32)\n",
    "train_dataloader,test_dataloader,class_names"
   ],
   "id": "41a2103bf4b7699a",
   "outputs": [],
   "execution_count": null
  },
  {
   "metadata": {},
   "cell_type": "code",
   "source": [
    "weights =  torchvision.models.EfficientNet_B1_Weights.DEFAULT\n",
    "effnetb1 = torchvision.models.efficientnet_b1(weights=weights)\n",
    "model_summary = summary(\n",
    "    model=effnetb1,\n",
    "    input_size=(32,3,224,224),\n",
    "    verbose=0,\n",
    "    col_names = ['input_size', 'output_size', 'num_params','trainable'],\n",
    "    col_width=20,\n",
    "    row_settings=['var_names']\n",
    ")\n",
    "model_summary"
   ],
   "id": "86345a6d16be4e17",
   "outputs": [],
   "execution_count": null
  },
  {
   "metadata": {},
   "cell_type": "code",
   "source": [
    "for param in effnetb1.features.parameters():\n",
    "    param.requires_grad=False\n",
    "\n",
    "set_seed()\n",
    "effnetb1.classifier = nn.Sequential(\n",
    "    nn.Dropout(p=0.2,inplace=True),\n",
    "    nn.Linear(in_features=1280,out_features=len(class_names),bias=True)\n",
    ")"
   ],
   "id": "e5025c69cd98ed44",
   "outputs": [],
   "execution_count": null
  },
  {
   "metadata": {},
   "cell_type": "code",
   "source": [
    "model_summary = summary(\n",
    "    model=effnetb1,\n",
    "    input_size=(32,3,224,224),\n",
    "    verbose=0,\n",
    "    col_names = ['input_size', 'output_size', 'num_params','trainable'],\n",
    "    col_width=20,\n",
    "    row_settings=['var_names']\n",
    ")\n",
    "model_summary"
   ],
   "id": "788d74c741f967",
   "outputs": [],
   "execution_count": null
  },
  {
   "metadata": {},
   "cell_type": "code",
   "source": [
    "experiment_number = 0\n",
    "set_seed()\n",
    "model_name = \"effnetb1\"\n",
    "num_epochs = [5,10]\n",
    "for epochs in num_epochs:\n",
    "    experiment_number += 1\n",
    "    print(f\"[INFO] Experiment number: {experiment_number}\")\n",
    "    print(f\"[INFO] Model: {model_name}\")\n",
    "    print(f\"[INFO] Number of epochs: {epochs}\")\n",
    "\n",
    "    loss_fn = nn.CrossEntropyLoss()\n",
    "    optimizer = torch.optim.Adam(params=effnetb1.parameters(),lr=0.001)\n",
    "\n",
    "    train(\n",
    "    model = effnetb1,\n",
    "    train_dataloader=train_dataloader,\n",
    "    test_dataloader=test_dataloader,\n",
    "    optimizer=optimizer,\n",
    "    loss_fn=loss_fn,\n",
    "    epochs=epochs,\n",
    "    device=device,\n",
    "    writer=create_writer(\n",
    "        experiment_name=\"data_20_percent\",\n",
    "        model_name=model_name,\n",
    "        extra=f\"{epochs}_epochs\"\n",
    "    ))\n",
    "\n",
    "    save_path = f'{model_name}_data_20_percent_{epochs}_epochs.pth'\n",
    "    save_model(\n",
    "    model=effnetb1,\n",
    "    target_dir=\"models\",\n",
    "    model_name=save_path\n",
    "    )\n",
    "    print(\"-\"*50 + \"\\n\")\n"
   ],
   "id": "a1f345fd3b133be0",
   "outputs": [],
   "execution_count": null
  },
  {
   "metadata": {},
   "cell_type": "markdown",
   "source": "From the experiment info, we find out efficient-b1 at epoch 10 has the lowest test loss and highest test accuracy. so effnetb1_data_20_percent_10_epochs.pth is the best model here",
   "id": "776ecc55e5900a52"
  },
  {
   "metadata": {},
   "cell_type": "markdown",
   "source": "Load the best model and make predictions with it",
   "id": "9d7c4230ffb1c053"
  },
  {
   "metadata": {},
   "cell_type": "code",
   "source": [
    "best_model_path = \"models/effnetb1_data_20_percent_10_epochs.pth\"\n",
    "\n",
    "best_model = effnetb1\n",
    "\n",
    "best_model.load_state_dict(torch.load(best_model_path))"
   ],
   "id": "ad395abb0a4e1784",
   "outputs": [],
   "execution_count": null
  },
  {
   "metadata": {},
   "cell_type": "code",
   "source": [
    "#test model by using a random list of 5 images from test set\n",
    "from modules.predict_plot import pred_and_plot_image\n",
    "import random\n",
    "import matplotlib.pyplot as plt\n",
    "from typing import List, Tuple\n",
    "\n",
    "num_images_to_plot = 5\n",
    "test_image_path_list = list(Path(data_20_percent_path/\"test\").glob(\"*/*.jpg\"))\n",
    "test_image_path_sample = random.sample(population=test_image_path_list,k=num_images_to_plot)\n",
    "for image_path in test_image_path_sample:\n",
    "    pred_and_plot_image(\n",
    "        model=best_model,\n",
    "        image_path=image_path,\n",
    "        device=device,\n",
    "        image_size=(224,224),\n",
    "        class_names=class_names,\n",
    "    )"
   ],
   "id": "95a1f40feeafac9a",
   "outputs": [],
   "execution_count": null
  },
  {
   "metadata": {},
   "cell_type": "code",
   "source": "",
   "id": "1056d4e940eceb8a",
   "outputs": [],
   "execution_count": null
  }
 ],
 "metadata": {
  "kernelspec": {
   "name": "python3",
   "language": "python",
   "display_name": "Python 3 (ipykernel)"
  }
 },
 "nbformat": 4,
 "nbformat_minor": 5
}
